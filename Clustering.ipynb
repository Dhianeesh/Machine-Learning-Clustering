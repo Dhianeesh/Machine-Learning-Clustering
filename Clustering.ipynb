{
 "cells": [
  {
   "cell_type": "code",
   "execution_count": 1,
   "id": "2213566b",
   "metadata": {},
   "outputs": [],
   "source": [
    "import pandas as pd\n",
    "import numpy as np\n",
    "import matplotlib.pyplot as plt\n",
    "import seaborn as sns\n",
    "%matplotlib inline"
   ]
  },
  {
   "cell_type": "code",
   "execution_count": 2,
   "id": "69bb4996",
   "metadata": {},
   "outputs": [],
   "source": [
    "df=pd.read_csv(\"Interests.csv\")"
   ]
  },
  {
   "cell_type": "code",
   "execution_count": 3,
   "id": "1bb65833",
   "metadata": {},
   "outputs": [
    {
     "data": {
      "text/html": [
       "<div>\n",
       "<style scoped>\n",
       "    .dataframe tbody tr th:only-of-type {\n",
       "        vertical-align: middle;\n",
       "    }\n",
       "\n",
       "    .dataframe tbody tr th {\n",
       "        vertical-align: top;\n",
       "    }\n",
       "\n",
       "    .dataframe thead th {\n",
       "        text-align: right;\n",
       "    }\n",
       "</style>\n",
       "<table border=\"1\" class=\"dataframe\">\n",
       "  <thead>\n",
       "    <tr style=\"text-align: right;\">\n",
       "      <th></th>\n",
       "      <th>ID</th>\n",
       "      <th>Gender</th>\n",
       "      <th>Annual Expense</th>\n",
       "      <th>Score</th>\n",
       "      <th>Interest Value</th>\n",
       "    </tr>\n",
       "  </thead>\n",
       "  <tbody>\n",
       "    <tr>\n",
       "      <th>0</th>\n",
       "      <td>1</td>\n",
       "      <td>Male</td>\n",
       "      <td>89.3</td>\n",
       "      <td>157</td>\n",
       "      <td>38.6</td>\n",
       "    </tr>\n",
       "    <tr>\n",
       "      <th>1</th>\n",
       "      <td>2</td>\n",
       "      <td>Male</td>\n",
       "      <td>24.5</td>\n",
       "      <td>819</td>\n",
       "      <td>71.6</td>\n",
       "    </tr>\n",
       "    <tr>\n",
       "      <th>2</th>\n",
       "      <td>3</td>\n",
       "      <td>Female</td>\n",
       "      <td>36.8</td>\n",
       "      <td>171</td>\n",
       "      <td>90.8</td>\n",
       "    </tr>\n",
       "    <tr>\n",
       "      <th>3</th>\n",
       "      <td>4</td>\n",
       "      <td>Female</td>\n",
       "      <td>88.1</td>\n",
       "      <td>911</td>\n",
       "      <td>66.3</td>\n",
       "    </tr>\n",
       "    <tr>\n",
       "      <th>4</th>\n",
       "      <td>5</td>\n",
       "      <td>Female</td>\n",
       "      <td>11.5</td>\n",
       "      <td>513</td>\n",
       "      <td>33.2</td>\n",
       "    </tr>\n",
       "  </tbody>\n",
       "</table>\n",
       "</div>"
      ],
      "text/plain": [
       "   ID  Gender  Annual Expense  Score  Interest Value\n",
       "0   1    Male            89.3    157            38.6\n",
       "1   2    Male            24.5    819            71.6\n",
       "2   3  Female            36.8    171            90.8\n",
       "3   4  Female            88.1    911            66.3\n",
       "4   5  Female            11.5    513            33.2"
      ]
     },
     "execution_count": 3,
     "metadata": {},
     "output_type": "execute_result"
    }
   ],
   "source": [
    "df.head(5)"
   ]
  },
  {
   "cell_type": "code",
   "execution_count": 4,
   "id": "047e4789",
   "metadata": {},
   "outputs": [
    {
     "name": "stdout",
     "output_type": "stream",
     "text": [
      "<class 'pandas.core.frame.DataFrame'>\n",
      "RangeIndex: 200 entries, 0 to 199\n",
      "Data columns (total 5 columns):\n",
      " #   Column          Non-Null Count  Dtype  \n",
      "---  ------          --------------  -----  \n",
      " 0   ID              200 non-null    int64  \n",
      " 1   Gender          200 non-null    object \n",
      " 2   Annual Expense  200 non-null    float64\n",
      " 3   Score           200 non-null    int64  \n",
      " 4   Interest Value  200 non-null    float64\n",
      "dtypes: float64(2), int64(2), object(1)\n",
      "memory usage: 7.9+ KB\n"
     ]
    }
   ],
   "source": [
    "df.info()"
   ]
  },
  {
   "cell_type": "code",
   "execution_count": 5,
   "id": "ac5583aa",
   "metadata": {},
   "outputs": [
    {
     "data": {
      "text/html": [
       "<div>\n",
       "<style scoped>\n",
       "    .dataframe tbody tr th:only-of-type {\n",
       "        vertical-align: middle;\n",
       "    }\n",
       "\n",
       "    .dataframe tbody tr th {\n",
       "        vertical-align: top;\n",
       "    }\n",
       "\n",
       "    .dataframe thead th {\n",
       "        text-align: right;\n",
       "    }\n",
       "</style>\n",
       "<table border=\"1\" class=\"dataframe\">\n",
       "  <thead>\n",
       "    <tr style=\"text-align: right;\">\n",
       "      <th></th>\n",
       "      <th>ID</th>\n",
       "      <th>Annual Expense</th>\n",
       "      <th>Score</th>\n",
       "      <th>Interest Value</th>\n",
       "    </tr>\n",
       "  </thead>\n",
       "  <tbody>\n",
       "    <tr>\n",
       "      <th>count</th>\n",
       "      <td>200.000000</td>\n",
       "      <td>200.00000</td>\n",
       "      <td>200.000000</td>\n",
       "      <td>200.000000</td>\n",
       "    </tr>\n",
       "    <tr>\n",
       "      <th>mean</th>\n",
       "      <td>100.500000</td>\n",
       "      <td>40.96795</td>\n",
       "      <td>106.145000</td>\n",
       "      <td>50.513500</td>\n",
       "    </tr>\n",
       "    <tr>\n",
       "      <th>std</th>\n",
       "      <td>57.879185</td>\n",
       "      <td>16.46873</td>\n",
       "      <td>159.155573</td>\n",
       "      <td>25.227266</td>\n",
       "    </tr>\n",
       "    <tr>\n",
       "      <th>min</th>\n",
       "      <td>1.000000</td>\n",
       "      <td>11.50000</td>\n",
       "      <td>23.000000</td>\n",
       "      <td>1.000000</td>\n",
       "    </tr>\n",
       "    <tr>\n",
       "      <th>25%</th>\n",
       "      <td>50.750000</td>\n",
       "      <td>29.90750</td>\n",
       "      <td>48.000000</td>\n",
       "      <td>35.000000</td>\n",
       "    </tr>\n",
       "    <tr>\n",
       "      <th>50%</th>\n",
       "      <td>100.500000</td>\n",
       "      <td>37.00000</td>\n",
       "      <td>66.000000</td>\n",
       "      <td>50.000000</td>\n",
       "    </tr>\n",
       "    <tr>\n",
       "      <th>75%</th>\n",
       "      <td>150.250000</td>\n",
       "      <td>49.25000</td>\n",
       "      <td>86.250000</td>\n",
       "      <td>72.000000</td>\n",
       "    </tr>\n",
       "    <tr>\n",
       "      <th>max</th>\n",
       "      <td>200.000000</td>\n",
       "      <td>99.00000</td>\n",
       "      <td>923.000000</td>\n",
       "      <td>99.000000</td>\n",
       "    </tr>\n",
       "  </tbody>\n",
       "</table>\n",
       "</div>"
      ],
      "text/plain": [
       "               ID  Annual Expense       Score  Interest Value\n",
       "count  200.000000       200.00000  200.000000      200.000000\n",
       "mean   100.500000        40.96795  106.145000       50.513500\n",
       "std     57.879185        16.46873  159.155573       25.227266\n",
       "min      1.000000        11.50000   23.000000        1.000000\n",
       "25%     50.750000        29.90750   48.000000       35.000000\n",
       "50%    100.500000        37.00000   66.000000       50.000000\n",
       "75%    150.250000        49.25000   86.250000       72.000000\n",
       "max    200.000000        99.00000  923.000000       99.000000"
      ]
     },
     "execution_count": 5,
     "metadata": {},
     "output_type": "execute_result"
    }
   ],
   "source": [
    "df.describe()"
   ]
  },
  {
   "cell_type": "code",
   "execution_count": 6,
   "id": "03f3f367",
   "metadata": {},
   "outputs": [
    {
     "data": {
      "text/plain": [
       "ID                False\n",
       "Gender            False\n",
       "Annual Expense    False\n",
       "Score             False\n",
       "Interest Value    False\n",
       "dtype: bool"
      ]
     },
     "execution_count": 6,
     "metadata": {},
     "output_type": "execute_result"
    }
   ],
   "source": [
    "df.isna().any()"
   ]
  },
  {
   "cell_type": "code",
   "execution_count": 7,
   "id": "bbfc12ab",
   "metadata": {},
   "outputs": [
    {
     "data": {
      "text/plain": [
       "RangeIndex(start=0, stop=200, step=1)"
      ]
     },
     "execution_count": 7,
     "metadata": {},
     "output_type": "execute_result"
    }
   ],
   "source": [
    "df.index"
   ]
  },
  {
   "cell_type": "code",
   "execution_count": 8,
   "id": "5a305253",
   "metadata": {},
   "outputs": [],
   "source": [
    "from sklearn.preprocessing import StandardScaler\n",
    "scaler = StandardScaler()"
   ]
  },
  {
   "cell_type": "code",
   "execution_count": 9,
   "id": "eb5efc31",
   "metadata": {},
   "outputs": [],
   "source": [
    "X = df[['Score','Interest Value']]"
   ]
  },
  {
   "cell_type": "code",
   "execution_count": 10,
   "id": "d0ae4eef",
   "metadata": {},
   "outputs": [],
   "source": [
    "X = scaler.fit_transform(X)"
   ]
  },
  {
   "cell_type": "code",
   "execution_count": 11,
   "id": "e6ccc700",
   "metadata": {},
   "outputs": [],
   "source": [
    "X = pd.DataFrame(X,columns=['Score','Interest Value'])"
   ]
  },
  {
   "cell_type": "code",
   "execution_count": null,
   "id": "21779818",
   "metadata": {},
   "outputs": [],
   "source": []
  },
  {
   "cell_type": "markdown",
   "id": "9f1c710e",
   "metadata": {},
   "source": [
    "# Build clusters using K-means; Cluster=3, metric as Eucledian."
   ]
  },
  {
   "cell_type": "code",
   "execution_count": 12,
   "id": "3333b3f3",
   "metadata": {},
   "outputs": [
    {
     "data": {
      "text/plain": [
       "KMeans(n_clusters=3)"
      ]
     },
     "execution_count": 12,
     "metadata": {},
     "output_type": "execute_result"
    }
   ],
   "source": [
    "from sklearn.cluster import KMeans\n",
    "km = KMeans(n_clusters=3)\n",
    "km.fit(X)"
   ]
  },
  {
   "cell_type": "code",
   "execution_count": 13,
   "id": "aa3ede34",
   "metadata": {},
   "outputs": [
    {
     "data": {
      "text/plain": [
       "array([[-0.23558744, -0.59915217],\n",
       "       [ 3.94565104,  0.05979474],\n",
       "       [-0.21906002,  1.05646575]])"
      ]
     },
     "execution_count": 13,
     "metadata": {},
     "output_type": "execute_result"
    }
   ],
   "source": [
    "km.cluster_centers_"
   ]
  },
  {
   "cell_type": "code",
   "execution_count": 14,
   "id": "c9b9a643",
   "metadata": {},
   "outputs": [
    {
     "data": {
      "text/plain": [
       "99.39894282864049"
      ]
     },
     "execution_count": 14,
     "metadata": {},
     "output_type": "execute_result"
    }
   ],
   "source": [
    "km.inertia_"
   ]
  },
  {
   "cell_type": "code",
   "execution_count": 15,
   "id": "06c18dd3",
   "metadata": {},
   "outputs": [],
   "source": [
    "res = X.copy()\n",
    "km_pred = km.predict(X)\n",
    "res['Cluster'] = km_pred"
   ]
  },
  {
   "cell_type": "code",
   "execution_count": 16,
   "id": "9991e26f",
   "metadata": {},
   "outputs": [
    {
     "data": {
      "text/plain": [
       "<AxesSubplot:xlabel='Score', ylabel='Interest Value'>"
      ]
     },
     "execution_count": 16,
     "metadata": {},
     "output_type": "execute_result"
    },
    {
     "data": {
      "image/png": "[encoded data removed]",
      "text/plain": [
       "<Figure size 432x288 with 1 Axes>"
      ]
     },
     "metadata": {
      "needs_background": "light"
     },
     "output_type": "display_data"
    }
   ],
   "source": [
    "sns.scatterplot(x='Score',y='Interest Value',data=res,hue='Cluster',palette='dark')"
   ]
  },
  {
   "cell_type": "code",
   "execution_count": null,
   "id": "64f893c7",
   "metadata": {},
   "outputs": [],
   "source": []
  },
  {
   "cell_type": "markdown",
   "id": "a3cd0687",
   "metadata": {},
   "source": [
    "# Print the k value and SSE"
   ]
  },
  {
   "cell_type": "code",
   "execution_count": 17,
   "id": "abae2dac",
   "metadata": {},
   "outputs": [],
   "source": [
    "k = []\n",
    "i = []"
   ]
  },
  {
   "cell_type": "code",
   "execution_count": 18,
   "id": "a3bbabb1",
   "metadata": {},
   "outputs": [
    {
     "name": "stderr",
     "output_type": "stream",
     "text": [
      "C:\\Users\\dell\\anaconda3\\lib\\site-packages\\sklearn\\cluster\\_kmeans.py:1036: UserWarning: KMeans is known to have a memory leak on Windows with MKL, when there are less chunks than available threads. You can avoid it by setting the environment variable OMP_NUM_THREADS=1.\n",
      "  warnings.warn(\n"
     ]
    }
   ],
   "source": [
    "for a in range(1,16,1):\n",
    "    km = KMeans(n_clusters=a)\n",
    "    km.fit(X)\n",
    "    k.append(a)\n",
    "    i.append(km.inertia_)"
   ]
  },
  {
   "cell_type": "code",
   "execution_count": 19,
   "id": "43cbfe71",
   "metadata": {},
   "outputs": [
    {
     "data": {
      "text/plain": [
       "[Text(0.5, 0, 'no. of cluster'), Text(0, 0.5, 'WCSS')]"
      ]
     },
     "execution_count": 19,
     "metadata": {},
     "output_type": "execute_result"
    },
    {
     "data": {
      "image/png": "[encoded data removed]",
      "text/plain": [
       "<Figure size 432x288 with 1 Axes>"
      ]
     },
     "metadata": {
      "needs_background": "light"
     },
     "output_type": "display_data"
    }
   ],
   "source": [
    "sns.lineplot(x=k,y=i,).set(xlabel=\"no. of cluster\",ylabel=\"WCSS\")"
   ]
  },
  {
   "cell_type": "code",
   "execution_count": 20,
   "id": "2c8b04a5",
   "metadata": {},
   "outputs": [
    {
     "data": {
      "text/plain": [
       "35.88531135614644"
      ]
     },
     "execution_count": 20,
     "metadata": {},
     "output_type": "execute_result"
    }
   ],
   "source": [
    "km_op = KMeans(n_clusters=5)\n",
    "km_op.fit(X)\n",
    "km_op.inertia_"
   ]
  },
  {
   "cell_type": "code",
   "execution_count": 21,
   "id": "aaf775dc",
   "metadata": {},
   "outputs": [],
   "source": [
    "res_op = X.copy()\n",
    "km_op_pred = km_op.predict(X)\n",
    "res_op['Cluster'] = km_op_pred"
   ]
  },
  {
   "cell_type": "code",
   "execution_count": 22,
   "id": "811fba3b",
   "metadata": {},
   "outputs": [
    {
     "data": {
      "text/plain": [
       "<AxesSubplot:xlabel='Score', ylabel='Interest Value'>"
      ]
     },
     "execution_count": 22,
     "metadata": {},
     "output_type": "execute_result"
    },
    {
     "data": {
      "image/png": "[encoded data removed]",
      "text/plain": [
       "<Figure size 432x288 with 1 Axes>"
      ]
     },
     "metadata": {
      "needs_background": "light"
     },
     "output_type": "display_data"
    }
   ],
   "source": [
    "sns.scatterplot(x='Score',y='Interest Value',data=res_op,hue='Cluster',palette='dark')"
   ]
  },
  {
   "cell_type": "code",
   "execution_count": null,
   "id": "1c375554",
   "metadata": {},
   "outputs": [],
   "source": []
  },
  {
   "cell_type": "code",
   "execution_count": null,
   "id": "9458f633",
   "metadata": {},
   "outputs": [],
   "source": []
  },
  {
   "cell_type": "markdown",
   "id": "de636f7e",
   "metadata": {},
   "source": [
    "# Agglomerative Clustering and Dendrogram tree"
   ]
  },
  {
   "cell_type": "code",
   "execution_count": 23,
   "id": "18ad67d7",
   "metadata": {},
   "outputs": [],
   "source": [
    "df1 = df.sample(n=10)\n",
    "X1 = df1[['Score','Interest Value']]"
   ]
  },
  {
   "cell_type": "code",
   "execution_count": 24,
   "id": "07778b01",
   "metadata": {},
   "outputs": [
    {
     "name": "stdout",
     "output_type": "stream",
     "text": [
      "<class 'numpy.ndarray'>\n"
     ]
    }
   ],
   "source": [
    "from sklearn.preprocessing import StandardScaler, normalize\n",
    "\n",
    "scaler = StandardScaler()\n",
    "X_scaler1 = scaler.fit_transform(X1)\n",
    "\n",
    "X_normalize = normalize(X_scaler1)\n",
    "print(type(X_normalize))"
   ]
  },
  {
   "cell_type": "code",
   "execution_count": 25,
   "id": "4cbeb62b",
   "metadata": {},
   "outputs": [],
   "source": [
    "X_normalize = pd.DataFrame(X_normalize,columns=['Score','Interest Value'])"
   ]
  },
  {
   "cell_type": "code",
   "execution_count": 26,
   "id": "6c4350e1",
   "metadata": {},
   "outputs": [
    {
     "data": {
      "image/png": "[encoded data removed]",
      "text/plain": [
       "<Figure size 720x504 with 1 Axes>"
      ]
     },
     "metadata": {
      "needs_background": "light"
     },
     "output_type": "display_data"
    }
   ],
   "source": [
    "import scipy.cluster.hierarchy as shc\n",
    "link = shc.linkage(X_normalize,method='ward')\n",
    "plt.figure(figsize=(10,7))\n",
    "plt.title(\"Dendrogram\")\n",
    "dend = shc.dendrogram(link)"
   ]
  },
  {
   "cell_type": "code",
   "execution_count": 27,
   "id": "572e63df",
   "metadata": {},
   "outputs": [],
   "source": [
    "from sklearn.cluster import AgglomerativeClustering\n",
    "cluster = AgglomerativeClustering(n_clusters=2, affinity='euclidean',linkage='ward')\n",
    "y = cluster.fit_predict(X_normalize)"
   ]
  },
  {
   "cell_type": "code",
   "execution_count": 28,
   "id": "364f44bf",
   "metadata": {},
   "outputs": [
    {
     "data": {
      "text/plain": [
       "<matplotlib.collections.PathCollection at 0x1e580cc72e0>"
      ]
     },
     "execution_count": 28,
     "metadata": {},
     "output_type": "execute_result"
    },
    {
     "data": {
      "image/png": "[encoded data removed]",
      "text/plain": [
       "<Figure size 720x504 with 1 Axes>"
      ]
     },
     "metadata": {
      "needs_background": "light"
     },
     "output_type": "display_data"
    }
   ],
   "source": [
    "plt.figure(figsize=(10,7))\n",
    "plt.scatter(X_normalize['Score'],X_normalize['Interest Value'],c=cluster.labels_)"
   ]
  },
  {
   "cell_type": "code",
   "execution_count": null,
   "id": "e6843d91",
   "metadata": {},
   "outputs": [],
   "source": []
  }
 ],
 "metadata": {
  "kernelspec": {
   "display_name": "Python 3 (ipykernel)",
   "language": "python",
   "name": "python3"
  },
  "language_info": {
   "codemirror_mode": {
    "name": "ipython",
    "version": 3
   },
   "file_extension": ".py",
   "mimetype": "text/x-python",
   "name": "python",
   "nbconvert_exporter": "python",
   "pygments_lexer": "ipython3",
   "version": "3.9.12"
  }
 },
 "nbformat": 4,
 "nbformat_minor": 5
}
